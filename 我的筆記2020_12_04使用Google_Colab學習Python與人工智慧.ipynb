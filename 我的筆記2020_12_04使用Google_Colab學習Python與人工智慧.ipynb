{
  "nbformat": 4,
  "nbformat_minor": 0,
  "metadata": {
    "colab": {
      "name": "我的筆記2020.12.04使用Google Colab學習Python與人工智慧.ipynb",
      "provenance": [],
      "collapsed_sections": [],
      "include_colab_link": true
    },
    "kernelspec": {
      "name": "python3",
      "display_name": "Python 3"
    }
  },
  "cells": [
    {
      "cell_type": "markdown",
      "metadata": {
        "id": "view-in-github",
        "colab_type": "text"
      },
      "source": [
        "<a href=\"https://colab.research.google.com/github/4060E058/python2020/blob/main/%E6%88%91%E7%9A%84%E7%AD%86%E8%A8%982020_12_04%E4%BD%BF%E7%94%A8Google_Colab%E5%AD%B8%E7%BF%92Python%E8%88%87%E4%BA%BA%E5%B7%A5%E6%99%BA%E6%85%A7.ipynb\" target=\"_parent\"><img src=\"https://colab.research.google.com/assets/colab-badge.svg\" alt=\"Open In Colab\"/></a>"
      ]
    },
    {
      "cell_type": "markdown",
      "metadata": {
        "id": "0BJQt4Mydi1X"
      },
      "source": [
        "#使用Google Colab學習Python與人工智慧\n",
        "```\n",
        "使用Google Colab平台學習Python程式設計\n",
        "使用Google Colab平台學習Python資料分析技術\n",
        "使用Google Colab平台學習機器學習(machine Learning)\n",
        "使用Google Colab平台學習深度學習(deep Learning)\n",
        "使用Google Colab平台學習強化學習(reinforcement Learning)\n",
        "```\n",
        "#課程內容\n",
        "\n",
        "```\n",
        "[1]Python開發環境:Google Colab\n",
        "\n",
        "Google Colab的Python開發環境暨使用技術\n",
        "\n",
        "[1]登入 註冊與使用\n",
        "\n",
        "[2]認識Colab環境\n",
        "\n",
        "[3]執行別人github上的XX.ipynb檔\n",
        "\n",
        "[4]儲存到你的GITHUB\n",
        "\n",
        "[5]下載程式(XX.py   XX.ipynb)到本地端\n",
        "\n",
        "[6]上傳程式到GOOGLE drive, 從Google drive 開啟xxx.ipynb\n",
        "\n",
        "[7]上傳檔案到colab\n",
        "\n",
        "[8]執行colab上的xxx.py程式\n",
        "\n",
        "[9]把整個別人分享的github  git clone到你的colab\n",
        "\n",
        "[10]載入你的google drive 到colab\n",
        "\n",
        "\n",
        "```\n",
        "#Google Colab\n",
        "\n",
        "\n",
        "```\n",
        "https://colab.research.google.com/\n",
        "\n",
        "Google Colab is a free cloud service and now it supports free GPU!\n",
        "You can;\n",
        "improve your Python programming language coding skills.\n",
        "develop deep learning applications using popular libraries such as Keras,\n",
        "TensorFlow, PyTorch, OpenAI gymand OpenCV.\n",
        "The most important feature that distinguishes Colab from other free cloud services is;\n",
        "Colab provides GPU and is totally free.\n",
        "```\n",
        "#確認Google Colab上的套件使用版本\n"
      ]
    },
    {
      "cell_type": "code",
      "metadata": {
        "colab": {
          "base_uri": "https://localhost:8080/"
        },
        "id": "yewBATIdaWDp",
        "outputId": "8a4e41eb-4311-4d78-96f3-9dfcc502fbbe"
      },
      "source": [
        "import pandas as pd\n",
        "print(\"pandas version: %s\" % pd.__version__)\n",
        "\n",
        "import matplotlib\n",
        "print(\"matplotlib version: %s\" % matplotlib.__version__)\n",
        "\n",
        "import numpy as np\n",
        "print(\"numpy version: %s\" % np.__version__)\n",
        "\n",
        "import sklearn\n",
        "print(\"scikit-learn version: %s\" % sklearn.__version__)\n",
        "\n",
        "import tensorflow as tf\n",
        "print(\"tensorflow version: %s\" % tf.__version__)\n",
        "\n",
        "import torch\n",
        "print(\"PyTorch version: %s\" %torch.__version__)\n",
        "print(\"2020年3月PyTorch version最新版本 是1.4 請參閱https://pytorch.org/\")"
      ],
      "execution_count": 1,
      "outputs": [
        {
          "output_type": "stream",
          "text": [
            "pandas version: 1.1.4\n",
            "matplotlib version: 3.2.2\n",
            "numpy version: 1.18.5\n",
            "scikit-learn version: 0.22.2.post1\n",
            "tensorflow version: 2.3.0\n",
            "PyTorch version: 1.7.0+cu101\n",
            "2020年3月PyTorch version最新版本 是1.4 請參閱https://pytorch.org/\n"
          ],
          "name": "stdout"
        }
      ]
    },
    {
      "cell_type": "markdown",
      "metadata": {
        "id": "2U4ABqp8ex46"
      },
      "source": [
        "#[略][2019年資料]切換不同版本的Tensorflow\n",
        "```\n",
        "Google Colab預設使用版本:1.15.0[20200314]\n",
        "import tensorflow as tf\n",
        "print(\"tensorflow version: %s\" % tf.__version__)\n",
        "\n",
        "\n",
        "```\n",
        "```\n",
        "新開一個Notebook\n",
        "\n",
        "%tensorflow_version 2.x\n",
        "import tensorflow as tf\n",
        "print(\"tensorflow version: %s\" % tf.__version__)\n",
        "Google Colab使用版本:2.1.0[20200314]\n",
        "```\n"
      ]
    },
    {
      "cell_type": "code",
      "metadata": {
        "colab": {
          "base_uri": "https://localhost:8080/"
        },
        "id": "d6iK8Yvpe5ov",
        "outputId": "ec88d4d7-c769-4980-b00e-f4d90dd5b0f3"
      },
      "source": [
        "import tensorflow as tf\n",
        "print(\"tensorflow version: %s\" % tf.__version__)"
      ],
      "execution_count": 5,
      "outputs": [
        {
          "output_type": "stream",
          "text": [
            "tensorflow version: 2.3.0\n"
          ],
          "name": "stdout"
        }
      ]
    },
    {
      "cell_type": "markdown",
      "metadata": {
        "id": "-b41XD1daa0p"
      },
      "source": [
        "# 我的筆記 20201204\n",
        "\n",
        "## 軟體套件載入: \n",
        "```\n",
        "使用 import\n",
        "import pandas(軟體套件) as pd(小名)\n",
        "使用方式: pd.XXXX\n",
        "\n",
        "```\n",
        "## 認識軟體套件\n",
        "```\n",
        "pandas\n",
        "matplotlib\n",
        "numpy\n",
        "sklearn\n",
        "tensorflow\n",
        "torch\n",
        "```\n",
        "##視覺化套件\n",
        "```\n",
        "print(\"matplotlib version: %s\" % matplotlib.__version__)\n",
        "version可用於快速版本檢查\n",
        "```\n",
        "##產生一維、二維陣列進行向量（vector）和矩陣（matrix）運算\n",
        "```\n",
        "print(\"numpy version: %s\" % np.__version__)\n",
        "\n",
        "1.ndarray 是由許多相同資料型別的元素所組成（若為物件陣列則例外），list 元素可以是不同資料型別（data type）\n",
        "2.ndarray 建立時大小為固定，若更改大小則為新創建的 ndarray\n",
        "3.Numpy 可以提供高效率大量矩陣運算\n",
        "\n",
        "```\n",
        "##關於 Scikit-Learn\n",
        "\n",
        "```\n",
        "print(\"scikit-learn version: %s\" % sklearn.__version__)\n",
        "\n",
        "1.一致性（Consistency）\n",
        "2.檢查性（Inspection）\n",
        "3.不自行創建類別（Nonproliferation of classes）\n",
        "4.模組化（Composition）\n",
        "5.提供合理的預設參數（Sensible defaults）\n",
        "\n",
        "\n",
        "\n",
        "```\n",
        "\n",
        "\n",
        "## python格式化輸出技術\n",
        "```\n",
        "print(\"PyTorch version: %s\" %torch.__version__)\n",
        "字串(位置%s) %  (要輸出的內容torch.__version__) \n",
        "\n",
        "```\n",
        "## TensorFlow資料流程圖\n",
        "```\n",
        "print(\"tensorflow version: %s\" % tf.__version__)\n",
        "```"
      ]
    },
    {
      "cell_type": "markdown",
      "metadata": {
        "id": "S_t7IRImjHYR"
      },
      "source": [
        ""
      ]
    }
  ]
}